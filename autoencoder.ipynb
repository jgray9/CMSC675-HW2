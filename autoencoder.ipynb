{
 "cells": [
  {
   "cell_type": "code",
   "execution_count": null,
   "metadata": {},
   "outputs": [],
   "source": [
    "import matplotlib.pyplot as plt\n",
    "import torch\n",
    "from torch import nn, optim\n",
    "from torch.utils.data import Dataset, DataLoader, random_split\n",
    "from torchvision import datasets, transforms\n",
    "from torchsummary import summary"
   ]
  },
  {
   "cell_type": "code",
   "execution_count": null,
   "metadata": {},
   "outputs": [],
   "source": [
    "# HYPERPARAMETERS\n",
    "T = transforms.Compose([\n",
    "    transforms.Resize((32,32)),\n",
    "    transforms.ToTensor(),\n",
    "    transforms.Normalize((0.5,),(0.5,))\n",
    "])\n",
    "TRAIN_TEST_SPLIT = 0.9\n",
    "BATCH_SIZE = 64\n",
    "EPOCHS = 50\n",
    "LEARNING_RATE = 0.001"
   ]
  },
  {
   "cell_type": "markdown",
   "metadata": {},
   "source": [
    "Part 1. Loading the Dataset"
   ]
  },
  {
   "cell_type": "code",
   "execution_count": null,
   "metadata": {},
   "outputs": [],
   "source": [
    "dataset = datasets.CIFAR10(root=\"./CIFAR10\", download=True, transform=T)\n",
    "trainDataset, testDataset = random_split(dataset, [TRAIN_TEST_SPLIT, 1 - TRAIN_TEST_SPLIT])\n",
    "trainLoader = DataLoader(trainDataset,\n",
    "                         batch_size=BATCH_SIZE,\n",
    "                         shuffle=True)\n",
    "testLoader  = DataLoader(testDataset,\n",
    "                         batch_size=BATCH_SIZE,\n",
    "                         shuffle=True)"
   ]
  },
  {
   "cell_type": "markdown",
   "metadata": {},
   "source": [
    "Part 2. Defining the Neural Network Architecture"
   ]
  },
  {
   "cell_type": "code",
   "execution_count": null,
   "metadata": {},
   "outputs": [],
   "source": [
    "class AutoEncoder(nn.Module):\n",
    "    def __init__(self):\n",
    "        super(AutoEncoder, self).__init__()\n",
    "        # size_out = (size_in + 2 * padding - kernel) / stride\n",
    "        self.encoder = nn.Sequential( \n",
    "            # INPUT 3x32x32\n",
    "            nn.Conv2d(3, 32, kernel_size=3, stride=2, padding=1),    # 32x16x16\n",
    "            nn.ReLU(),\n",
    "            nn.Conv2d(32, 1, kernel_size=3, stride=2, padding=1),    # 1x8x8\n",
    "        )\n",
    "        # size_out = (size_in - 1) * stride - 2 * padding + kernel\n",
    "        self.decoder = nn.Sequential(\n",
    "            # INPUT 6x8x8\n",
    "            nn.ConvTranspose2d(1, 32, kernel_size=4, stride=2, padding=1), # 32x16x16\n",
    "            nn.ReLU(),\n",
    "            nn.ConvTranspose2d(32, 3, kernel_size=4, stride=2, padding=1), # 3x32x32\n",
    "            nn.Tanh()\n",
    "        )\n",
    "    def forward(self, x):\n",
    "        z = self.encoder(x)\n",
    "        return self.decoder(z)\n",
    "\n",
    "model = AutoEncoder()\n",
    "device = \"cuda\" if torch.cuda.is_available() else \"cpu\"\n",
    "model.to(device)\n",
    "summary(model, (3,32,32))"
   ]
  },
  {
   "cell_type": "markdown",
   "metadata": {},
   "source": [
    "Part 3. Train the Model"
   ]
  },
  {
   "cell_type": "code",
   "execution_count": null,
   "metadata": {},
   "outputs": [],
   "source": [
    "def train_model(model: nn.Module, criterion: nn.Module, optimizer: optim.Optimizer) -> list[float]:\n",
    "    losses = []\n",
    "    for epoch in range(1,EPOCHS+1):\n",
    "        model.train()\n",
    "        epoch_loss = 0\n",
    "        for x,_ in trainLoader:\n",
    "            x = x.to(device)\n",
    "            optimizer.zero_grad()\n",
    "            # forward pass\n",
    "            recon = model(x)\n",
    "            # calculate gradients\n",
    "            loss: torch.Tensor = criterion(recon, x)\n",
    "            loss.backward()\n",
    "            epoch_loss += loss.detach().sum().item()\n",
    "            # backward pass\n",
    "            optimizer.step()\n",
    "        losses.append(epoch_loss)\n",
    "        # display results after every 10 epochs\n",
    "        if epoch % 10 == 0:\n",
    "            model.eval()\n",
    "            with torch.no_grad():\n",
    "                # get a singlar batch of images\n",
    "                for x,_ in testLoader:\n",
    "                    x = x.to(device)\n",
    "                    y = model(x)\n",
    "                    break\n",
    "                # torch image is BSxCxWxH but matplot is WxHxC\n",
    "                x = x.permute(0,2,3,1)\n",
    "                y = y.permute(0,2,3,1)\n",
    "                # unnormalize image for viewing purposes\n",
    "                # torch normalization is out = (in - mean) / std\n",
    "                #                            = (in - 0.5) / 0.5\n",
    "                # reversing is   in = out * 0.5 + 0.5\n",
    "                x = x * 0.5 + 0.5\n",
    "                y = y * 0.5 + 0.5\n",
    "                # create plot\n",
    "                plt.figure(dpi=250)\n",
    "                _, ax = plt.subplots(2, 7, figsize=(15,4))\n",
    "                ax[0, 3].set_title(f\"Epoch {epoch}\")\n",
    "                for i in range(7):\n",
    "                    ax[0, i].imshow(x[i].cpu())\n",
    "                    ax[1, i].imshow(y[i].cpu())\n",
    "                    ax[0, i].axis(\"OFF\")\n",
    "                    ax[1, i].axis(\"OFF\")\n",
    "                plt.show()\n",
    "        # check for convergence\n",
    "        if epoch > 1 and abs(losses[epoch - 1] - losses[epoch - 2]) < 0.001:\n",
    "            model.eval()\n",
    "            break\n",
    "    return losses\n",
    "\n",
    "losses = train_model(model, nn.MSELoss(), optim.Adam(model.parameters(), lr=LEARNING_RATE))"
   ]
  },
  {
   "cell_type": "code",
   "execution_count": null,
   "metadata": {},
   "outputs": [],
   "source": [
    "_, ax = plt.subplots()\n",
    "ax.set_title(\"Autoencoder Loss\")\n",
    "ax.plot(losses)\n",
    "ax.set(xlabel=\"epoch\", ylabel=\"loss\")\n",
    "ax.grid()\n",
    "plt.show()"
   ]
  },
  {
   "cell_type": "markdown",
   "metadata": {},
   "source": [
    "Part 5. Mean and Variance of Latent Vectors per Class"
   ]
  },
  {
   "cell_type": "code",
   "execution_count": null,
   "metadata": {},
   "outputs": [],
   "source": [
    "def plot_class_distances(encoder: nn.Module, n_classes: int, dataset: Dataset) -> None:\n",
    "    # Apply the encoder on the test set to get a set of z vectors.\n",
    "    Z: list[list[torch.Tensor]] = [[] for _ in range(n_classes)]\n",
    "    for x,c in dataset:\n",
    "        x = x.to(device)\n",
    "        Z[c].append( encoder(x).cpu() )\n",
    "\n",
    "    # Find the mean for each class.\n",
    "    mean: list[torch.Tensor] = [0 for _ in range(n_classes)]\n",
    "    for c in range(n_classes):\n",
    "        mean[c] = sum(Z[c]) / len(Z[c])\n",
    "\n",
    "    # Find the distance between all z_c and z_c_mean for each class.\n",
    "    dist: list[float] = [0 for _ in range(n_classes)]\n",
    "    for c in range(n_classes):\n",
    "        for z in Z[c]:\n",
    "            dist[c] += (z - mean[c]).sum().pow(2).item()\n",
    "        dist[c] /= len(Z[c])\n",
    "\n",
    "    # Plot distances\n",
    "    plt.bar([\"airplane\",\"car\",\"bird\",\"cat\",\"deer\",\"dog\",\"frog\",\"horse\",\"ship\",\"truck\"], dist)\n",
    "\n",
    "with torch.no_grad():\n",
    "    plot_class_distances(model.encoder, 10, testDataset)"
   ]
  },
  {
   "cell_type": "markdown",
   "metadata": {},
   "source": [
    "Part 6. Unsupervised Classification"
   ]
  },
  {
   "cell_type": "code",
   "execution_count": null,
   "metadata": {},
   "outputs": [],
   "source": [
    "from sklearn.cluster import KMeans\n",
    "import numpy as np\n",
    "\n",
    "def unsupervised_classification(encoder: nn.Module, n_classes: int, dataset: Dataset, pie_labels: list[str]) -> None:\n",
    "    # Apply the encoder on the test set to get a set of z vectors.\n",
    "    C: list[int] = [] # store class for each vector\n",
    "    V: np.ndarray = np.ones(shape=(len(dataset),2)) # sklearn kmeans only works on 2D data, so can only store two features\n",
    "    for idx,(x,c) in enumerate(dataset):\n",
    "        x = x.to(device) # 3x32x32\n",
    "        z = encoder(x).cpu().squeeze() # 8x8\n",
    "        V[idx][0] *= z[0].sum()\n",
    "        V[idx][1] *= z[1].sum()\n",
    "        C.append(c) # record class of current datapoint\n",
    "\n",
    "    # Initialize KMeans with the number of clusters\n",
    "    kmeans = KMeans(n_clusters=n_classes, random_state=0)\n",
    "\n",
    "    # Fit the model\n",
    "    kmeans.fit(V)\n",
    "\n",
    "    # Sort vectors by cluster\n",
    "    labels = kmeans.labels_ # assigned cluster for each vector\n",
    "    centroids = kmeans.cluster_centers_ # coordinates for cluster centers (not real datapoints)\n",
    "    clusters: list[list[list[float]]] = [[] for _ in range(n_classes)]\n",
    "    for i, vector in enumerate(V):\n",
    "        vector_class = C[i]\n",
    "        vector_cluster = labels[i]\n",
    "        # store vector and its original class by its cluster\n",
    "        clusters[vector_cluster].append([vector[0], vector[1], vector_class])\n",
    "\n",
    "    # Visualize the cluster\n",
    "    for i, cluster in enumerate(clusters):\n",
    "        plt.scatter([vector[0] for vector in cluster], [vector[1] for vector in cluster], label=f\"Cluster {i}\")\n",
    "    plt.scatter(centroids[:, 0], centroids[:, 1], c='red', marker='x', label=\"Centroids\")\n",
    "    plt.legend()\n",
    "    plt.show()\n",
    "\n",
    "    # Print cluster percentages\n",
    "    print(f\"{'':<10}\",end='')\n",
    "    for i in range(n_classes): print(f\"{i:^9}\",end='')\n",
    "    print()\n",
    "\n",
    "    for i, lbl in enumerate(pie_labels):\n",
    "        print(f\"{lbl:<10}\",end='')\n",
    "        for cluster in clusters:\n",
    "            num_classes = len([vector[2] for vector in cluster if vector[2] == i])\n",
    "            per_classes = f\"{100 * num_classes / len(cluster):.2f}%\"\n",
    "            print(f\"{per_classes:^9}\",end='')\n",
    "        print()\n",
    "\n",
    "\n",
    "with torch.no_grad():\n",
    "    unsupervised_classification(model.encoder, 10, testDataset, [\"airplane\",\"car\",\"bird\",\"cat\",\"deer\",\"dog\",\"frog\",\"horse\",\"ship\",\"truck\"])"
   ]
  },
  {
   "cell_type": "code",
   "execution_count": null,
   "metadata": {},
   "outputs": [],
   "source": []
  }
 ],
 "metadata": {
  "kernelspec": {
   "display_name": ".venv",
   "language": "python",
   "name": "python3"
  },
  "language_info": {
   "codemirror_mode": {
    "name": "ipython",
    "version": 3
   },
   "file_extension": ".py",
   "mimetype": "text/x-python",
   "name": "python",
   "nbconvert_exporter": "python",
   "pygments_lexer": "ipython3",
   "version": "3.12.3"
  }
 },
 "nbformat": 4,
 "nbformat_minor": 2
}
