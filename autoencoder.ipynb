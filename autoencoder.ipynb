{
 "cells": [
  {
   "cell_type": "code",
   "execution_count": null,
   "metadata": {},
   "outputs": [],
   "source": [
    "import matplotlib.pyplot as plt\n",
    "import torch, torch.nn as nn\n",
    "from torch.utils.data import Dataset, DataLoader, random_split\n",
    "from torchvision import datasets, transforms\n",
    "from torchsummary import summary"
   ]
  },
  {
   "cell_type": "code",
   "execution_count": null,
   "metadata": {},
   "outputs": [],
   "source": [
    "# HYPERPARAMETERS\n",
    "T = transforms.Compose([\n",
    "    transforms.Resize((32,32)),\n",
    "    transforms.ToTensor(),\n",
    "    transforms.Normalize((0.5,),(0.5,))\n",
    "])\n",
    "TRAIN_TEST_SPLIT = 0.9\n",
    "BATCH_SIZE = 64\n",
    "EPOCHS = 50"
   ]
  },
  {
   "cell_type": "markdown",
   "metadata": {},
   "source": [
    "Part 1. Loading the Dataset"
   ]
  },
  {
   "cell_type": "code",
   "execution_count": null,
   "metadata": {},
   "outputs": [],
   "source": [
    "dataset = datasets.CIFAR10(root=\"./CIFAR10\", download=True, transform=T)\n",
    "trainDataset, testDataset = random_split(dataset, [TRAIN_TEST_SPLIT, 1 - TRAIN_TEST_SPLIT])\n",
    "trainLoader = DataLoader(trainDataset,\n",
    "                         batch_size=BATCH_SIZE,\n",
    "                         shuffle=True)\n",
    "testLoader  = DataLoader(testDataset,\n",
    "                         batch_size=BATCH_SIZE,\n",
    "                         shuffle=True)"
   ]
  },
  {
   "cell_type": "markdown",
   "metadata": {},
   "source": [
    "Part 2. Defining the Neural Network Architecture"
   ]
  },
  {
   "cell_type": "code",
   "execution_count": null,
   "metadata": {},
   "outputs": [],
   "source": [
    "class AutoEncoder(nn.Module):\n",
    "    def __init__(self):\n",
    "        super(AutoEncoder, self).__init__()\n",
    "        # size_out = (size_in + 2 * padding - kernel) / stride\n",
    "        self.encoder = nn.Sequential( \n",
    "            # INPUT 3x32x32\n",
    "            nn.Conv2d(3, 3, kernel_size=3, stride=2, padding=1),    # 3x16x16\n",
    "            nn.ReLU(),\n",
    "            nn.Conv2d(3, 1, kernel_size=3, stride=2, padding=1),    # 1x8x8\n",
    "        )\n",
    "        # size_out = (size_in - 1) * stride - 2 * padding + kernel\n",
    "        self.decoder = nn.Sequential(\n",
    "            # INPUT 6x8x8\n",
    "            nn.ConvTranspose2d(1, 3, kernel_size=4, stride=2, padding=1),\n",
    "            nn.ReLU(),\n",
    "            nn.ConvTranspose2d(3, 3, kernel_size=4, stride=2, padding=1)\n",
    "        )\n",
    "    def forward(self, x):\n",
    "        z = self.encoder(x)\n",
    "        return self.decoder(z)\n",
    "\n",
    "model = AutoEncoder()\n",
    "device = \"cuda\" if torch.cuda.is_available() else \"cpu\"\n",
    "model.to(device)\n",
    "summary(model, (3,32,32))"
   ]
  },
  {
   "cell_type": "markdown",
   "metadata": {},
   "source": [
    "Part 3. Train the Model"
   ]
  },
  {
   "cell_type": "code",
   "execution_count": null,
   "metadata": {},
   "outputs": [],
   "source": [
    "with torch.no_grad():\n",
    "    for data,_ in testLoader:\n",
    "        data = data.to(device)\n",
    "        recon = model(data)\n",
    "        break\n",
    "    plt.figure(dpi=250)\n",
    "    fig, ax = plt.subplots(2, 7, figsize=(15,4))\n",
    "    for i in range(7):\n",
    "        ax[0, i].imshow(data[i].cpu().numpy().transpose((1, 2, 0)))\n",
    "        ax[1, i].imshow(recon[i].cpu().numpy().transpose((1, 2, 0)))\n",
    "        ax[0, i].axis(\"OFF\")\n",
    "        ax[1, i].axis(\"OFF\")\n",
    "    plt.show()"
   ]
  },
  {
   "cell_type": "markdown",
   "metadata": {},
   "source": [
    "Part 6. Unsupervised Classification"
   ]
  }
 ],
 "metadata": {
  "kernelspec": {
   "display_name": ".venv",
   "language": "python",
   "name": "python3"
  },
  "language_info": {
   "codemirror_mode": {
    "name": "ipython",
    "version": 3
   },
   "file_extension": ".py",
   "mimetype": "text/x-python",
   "name": "python",
   "nbconvert_exporter": "python",
   "pygments_lexer": "ipython3",
   "version": "3.12.3"
  }
 },
 "nbformat": 4,
 "nbformat_minor": 2
}
