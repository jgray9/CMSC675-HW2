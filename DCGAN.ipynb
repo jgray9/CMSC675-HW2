{
 "cells": [
  {
   "cell_type": "code",
   "execution_count": null,
   "metadata": {},
   "outputs": [],
   "source": [
    "import os\n",
    "from PIL import Image\n",
    "import torch\n",
    "from torch import nn, optim\n",
    "from torch.utils.data import Dataset, DataLoader\n",
    "from torchvision import transforms"
   ]
  },
  {
   "cell_type": "code",
   "execution_count": null,
   "metadata": {},
   "outputs": [],
   "source": [
    "# HYPERPARAMETERS\n",
    "LEARNING_RATE = 0.001\n",
    "NUM_EPOCHS = 100"
   ]
  },
  {
   "cell_type": "markdown",
   "metadata": {},
   "source": [
    "Part 1: Create Grumpy Cat Dataset"
   ]
  },
  {
   "cell_type": "code",
   "execution_count": null,
   "metadata": {},
   "outputs": [],
   "source": [
    "class CustomDataset(Dataset):\n",
    "    def __init__(self, dir, transform = None):\n",
    "        self.total_imgs: list[torch.Tensor] = []\n",
    "        for file in os.listdir(dir):\n",
    "            self.total_imgs.append( Image.open(dir + '/' + file) )\n",
    "        self.transform = transform\n",
    "    \n",
    "    def __len__(self) -> int:\n",
    "        return len(self.total_imgs)\n",
    "    \n",
    "    def __getitem__(self, idx) -> Image.Image:\n",
    "        return self.transform(self.total_imgs[idx])\n",
    "dataset = CustomDataset(\"grumpifyCat\")\n",
    "dataloader = DataLoader(dataset)"
   ]
  },
  {
   "cell_type": "markdown",
   "metadata": {},
   "source": [
    "Part 2: Data Augmentation"
   ]
  },
  {
   "cell_type": "code",
   "execution_count": null,
   "metadata": {},
   "outputs": [],
   "source": [
    "def get_transform(mode: str) -> nn.Module:\n",
    "    if mode == \"simple\":\n",
    "        return transforms.Compose([\n",
    "            transforms.Resize((64, 64), transforms.InterpolationMode.BICUBIC),\n",
    "            transforms.ToTensor(),\n",
    "            transforms.Normalize((0.5, 0.5, 0.5), (0.5, 0.5, 0.5))\n",
    "        ])\n",
    "    elif mode == \"deluxe\":\n",
    "        return transforms.Compose([\n",
    "            transforms.Resize((64, 64), transforms.InterpolationMode.BICUBIC),\n",
    "            transforms.RandomGrayscale(0.2),\n",
    "            transforms.RandomRotation(180),\n",
    "            transforms.ToTensor(),\n",
    "            transforms.Normalize((0.5, 0.5, 0.5), (0.5, 0.5, 0.5))\n",
    "        ])\n",
    "    raise NotImplementedError"
   ]
  },
  {
   "cell_type": "markdown",
   "metadata": {},
   "source": [
    "Part 3: Implement the Discriminator of the DCGAN"
   ]
  },
  {
   "cell_type": "code",
   "execution_count": null,
   "metadata": {},
   "outputs": [],
   "source": [
    "class Discriminator(nn.Module):\n",
    "    def __init__(self):\n",
    "        super(Discriminator, self).__init__()\n",
    "        # size_out = (size_in + 2 * padding - kernel) / stride + 1\n",
    "        self.layers = nn.Sequential(\n",
    "            # INPUT 3x64x64\n",
    "            nn.Conv2d(  3,  32, kernel_size=4, stride=2, padding=1), # 32x32x32\n",
    "            nn.LazyBatchNorm2d(),\n",
    "            nn.ReLU(),\n",
    "            nn.Conv2d( 32,  64, kernel_size=4, stride=2, padding=1), # 64x16x16\n",
    "            nn.LazyBatchNorm2d(),\n",
    "            nn.ReLU(),\n",
    "            nn.Conv2d( 64, 128, kernel_size=4, stride=2, padding=1), # 128x8x8\n",
    "            nn.LazyBatchNorm2d(),\n",
    "            nn.ReLU(),\n",
    "            nn.Conv2d(128, 256, kernel_size=4, stride=2, padding=1), # 256x4x4\n",
    "            nn.LazyBatchNorm2d(),\n",
    "            nn.ReLU(),\n",
    "            nn.Conv2d(256, 1, kernel_size=6, stride=2, padding=1), # 1x1x1\n",
    "        )\n",
    "    \n",
    "    def forward(self, z) -> torch.Tensor:\n",
    "        return self.layers(z).squeeze()"
   ]
  },
  {
   "cell_type": "markdown",
   "metadata": {},
   "source": [
    "Part 4: Implement the Generator of the DCGAN"
   ]
  },
  {
   "cell_type": "code",
   "execution_count": null,
   "metadata": {},
   "outputs": [],
   "source": [
    "class Generator(nn.Module):\n",
    "    def __init__(self, noise_size=100):\n",
    "        super(Generator, self).__init__()\n",
    "        # size_out = (size_in - 1) * stride - 2 * padding + kernel\n",
    "        self.layers = nn.Sequential(\n",
    "            # INPUT nsx1x1\n",
    "            nn.ConvTranspose2d(noise_size, 256, kernel_size=6, stride=2, padding=1),    # 256x4x4\n",
    "            nn.LazyBatchNorm2d(),\n",
    "            nn.ReLU(),\n",
    "            nn.ConvTranspose2d(256, 128, kernel_size=4, stride=2, padding=1),           # 128x8x8\n",
    "            nn.LazyBatchNorm2d(),\n",
    "            nn.ReLU(),\n",
    "            nn.ConvTranspose2d(128, 64, kernel_size=4, stride=2, padding=1),            # 64x16x16\n",
    "            nn.LazyBatchNorm2d(),\n",
    "            nn.ReLU(),\n",
    "            nn.ConvTranspose2d( 64, 32, kernel_size=4, stride=2, padding=1),            # 32x32x32\n",
    "            nn.LazyBatchNorm2d(),\n",
    "            nn.ReLU(),\n",
    "            nn.ConvTranspose2d( 32,  3, kernel_size=4, stride=2, padding=1),            # 3x64x64\n",
    "            nn.Tanh(),\n",
    "        )\n",
    "    \n",
    "    def forward(self, z) -> torch.Tensor:\n",
    "        return self.layers(z)"
   ]
  },
  {
   "cell_type": "markdown",
   "metadata": {},
   "source": [
    "Part 5: Training Loop"
   ]
  },
  {
   "cell_type": "code",
   "execution_count": null,
   "metadata": {},
   "outputs": [],
   "source": [
    "def training_loop(dataloader: DataLoader):\n",
    "    # Create generators and discriminators\n",
    "    generator = Generator()\n",
    "    discriminator = Discriminator()\n",
    "\n",
    "    # Create optimizers for the generators and discriminators\n",
    "    g_optimizer = optim.Adam(generator.parameters(), lr=LEARNING_RATE)\n",
    "    d_optimizer = optim.Adam(discriminator.parameters(), lr=LEARNING_RATE)\n",
    "\n",
    "    for epoch in range(NUM_EPOCHS):\n",
    "        iteration = 0\n",
    "        for data in dataloader:\n",
    "            # Load real images\n",
    "            real_images = data[0]\n",
    "            \n",
    "            # \n",
    "            # TRAIN DISCRIMINATOR\n",
    "            # \n",
    "            \n",
    "            d_optimizer.zero_grad()\n",
    "\n",
    "            # 1. Compute the discriminator loss on real images\n",
    "            D_real_pred = discriminator(real_images)\n",
    "            D_real_loss = torch.full(D_real_pred.shape, 1) - D_real_pred\n",
    "\n",
    "            # 2. Sample noise\n",
    "            noise = sample_noise(opts.noise_size)\n",
    "\n",
    "            # 3. Generate fake images from the noise\n",
    "            fake_images = generator(noise)\n",
    "\n",
    "            # 4. Compute the discriminator loss on the fake images\n",
    "            D_fake_pred = discriminator(fake_images)\n",
    "            D_fake_loss = torch.full(D_fake_pred.shape, -1) - D_fake_pred\n",
    "\n",
    "            # 5. Compute total loss\n",
    "            D_total_loss = D_real_loss + D_fake_loss\n",
    "            if iteration % 2 == 0:\n",
    "                D_total_loss.backward()\n",
    "                d_optimizier.step()\n",
    "\n",
    "            # \n",
    "            # TRAIN GENERATOR\n",
    "            # \n",
    "\n",
    "            g_optimizer.zero_grad()\n",
    "\n",
    "            # 1. Sample noise\n",
    "            noise = sample_noise(opts.noise_size)\n",
    "\n",
    "            # 2. Generate fake images from the noise\n",
    "            fake_images = generator(noise)\n",
    "\n",
    "            # 3. Compute the generator loss\n",
    "            D_gen_pred = discriminator(fake_images)\n",
    "            D_gen_loss = torch.full(D_gen_pred.shape, -1) - D_gen_pred\n",
    "            G_loss = -D_gen_loss\n",
    "\n",
    "            G_loss.backward()\n",
    "            g_optimizer.step()\n",
    "\n",
    "            # Print each loss every 200 iterations\n",
    "            if iteration % 200 == 0:\n",
    "                print(f\"Loss - Discriminator: {D_total_loss:<8.2f} Generator: {G_loss:<8.2f}\")\n",
    "\n",
    "training_loop(dataloader)"
   ]
  }
 ],
 "metadata": {
  "kernelspec": {
   "display_name": ".venv",
   "language": "python",
   "name": "python3"
  },
  "language_info": {
   "codemirror_mode": {
    "name": "ipython",
    "version": 3
   },
   "file_extension": ".py",
   "mimetype": "text/x-python",
   "name": "python",
   "nbconvert_exporter": "python",
   "pygments_lexer": "ipython3",
   "version": "3.11.9"
  }
 },
 "nbformat": 4,
 "nbformat_minor": 2
}
