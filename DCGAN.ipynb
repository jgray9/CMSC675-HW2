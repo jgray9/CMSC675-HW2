{
 "cells": [
  {
   "cell_type": "code",
   "execution_count": null,
   "metadata": {},
   "outputs": [],
   "source": [
    "import os\n",
    "from PIL import Image\n",
    "import torch\n",
    "from torch import nn, optim\n",
    "from torch.utils.data import Dataset, DataLoader\n",
    "from torchvision import transforms\n",
    "from matplotlib import pyplot as plt"
   ]
  },
  {
   "cell_type": "code",
   "execution_count": null,
   "metadata": {},
   "outputs": [],
   "source": [
    "# HYPERPARAMETERS\n",
    "LEARNING_RATE = 0.001\n",
    "NUM_EPOCHS = 100\n",
    "BATCH_SIZE = 100\n",
    "NOISE_SIZE = 100"
   ]
  },
  {
   "cell_type": "markdown",
   "metadata": {},
   "source": [
    "Part 1: Create Grumpy Cat Dataset"
   ]
  },
  {
   "cell_type": "code",
   "execution_count": null,
   "metadata": {},
   "outputs": [],
   "source": [
    "class CustomDataset(Dataset):\n",
    "    def __init__(self, dir, transform = transforms.ToTensor()):\n",
    "        self.total_imgs: list[torch.Tensor] = []\n",
    "        for file in os.listdir(dir):\n",
    "            self.total_imgs.append( Image.open(dir + '/' + file) )\n",
    "        self.transform = transform\n",
    "    \n",
    "    def __len__(self) -> int:\n",
    "        return len(self.total_imgs)\n",
    "    \n",
    "    def __getitem__(self, idx) -> Image.Image:\n",
    "        return self.transform(self.total_imgs[idx])"
   ]
  },
  {
   "cell_type": "markdown",
   "metadata": {},
   "source": [
    "Part 2: Data Augmentation"
   ]
  },
  {
   "cell_type": "code",
   "execution_count": null,
   "metadata": {},
   "outputs": [],
   "source": [
    "def get_transform(mode: str) -> nn.Module:\n",
    "    if mode == \"simple\":\n",
    "        return transforms.Compose([\n",
    "            transforms.Resize((64, 64), transforms.InterpolationMode.BICUBIC),\n",
    "            transforms.ToTensor(),\n",
    "            transforms.Normalize((0.5, 0.5, 0.5), (0.5, 0.5, 0.5))\n",
    "        ])\n",
    "    elif mode == \"deluxe\":\n",
    "        return transforms.Compose([\n",
    "            transforms.Resize((64, 64), transforms.InterpolationMode.BICUBIC),\n",
    "            transforms.RandomGrayscale(0.2),\n",
    "            transforms.RandomRotation(180),\n",
    "            transforms.ToTensor(),\n",
    "            transforms.Normalize((0.5, 0.5, 0.5), (0.5, 0.5, 0.5))\n",
    "        ])\n",
    "    raise NotImplementedError"
   ]
  },
  {
   "cell_type": "markdown",
   "metadata": {},
   "source": [
    "Part 3: Implement the Discriminator of the DCGAN"
   ]
  },
  {
   "cell_type": "code",
   "execution_count": null,
   "metadata": {},
   "outputs": [],
   "source": [
    "class Discriminator(nn.Module):\n",
    "    def __init__(self):\n",
    "        super(Discriminator, self).__init__()\n",
    "        # size_out = (size_in + 2 * padding - kernel) / stride + 1\n",
    "        self.layers = nn.Sequential(\n",
    "            # INPUT 3x64x64\n",
    "            nn.Conv2d(  3,  32, kernel_size=4, stride=2, padding=1), # 32x32x32\n",
    "            nn.LazyBatchNorm2d(),\n",
    "            nn.ReLU(),\n",
    "            nn.Conv2d( 32,  64, kernel_size=4, stride=2, padding=1), # 64x16x16\n",
    "            nn.LazyBatchNorm2d(),\n",
    "            nn.ReLU(),\n",
    "            nn.Conv2d( 64, 128, kernel_size=4, stride=2, padding=1), # 128x8x8\n",
    "            nn.LazyBatchNorm2d(),\n",
    "            nn.ReLU(),\n",
    "            nn.Conv2d(128, 256, kernel_size=4, stride=2, padding=1), # 256x4x4\n",
    "            nn.LazyBatchNorm2d(),\n",
    "            nn.ReLU(),\n",
    "            nn.Conv2d(256, 1, kernel_size=6, stride=2, padding=1), # 1x1x1\n",
    "        )\n",
    "    \n",
    "    def forward(self, z) -> torch.Tensor:\n",
    "        return self.layers(z).squeeze()"
   ]
  },
  {
   "cell_type": "markdown",
   "metadata": {},
   "source": [
    "Part 4: Implement the Generator of the DCGAN"
   ]
  },
  {
   "cell_type": "code",
   "execution_count": null,
   "metadata": {},
   "outputs": [],
   "source": [
    "class Generator(nn.Module):\n",
    "    def __init__(self, noise_size=100):\n",
    "        super(Generator, self).__init__()\n",
    "        # size_out = (size_in - 1) * stride - 2 * padding + kernel\n",
    "        self.layers = nn.Sequential(\n",
    "            # INPUT nsx1x1\n",
    "            nn.ConvTranspose2d(noise_size, 256, kernel_size=6, stride=2, padding=1),    # 256x4x4\n",
    "            nn.LazyBatchNorm2d(),\n",
    "            nn.ReLU(),\n",
    "            nn.ConvTranspose2d(256, 128, kernel_size=4, stride=2, padding=1),           # 128x8x8\n",
    "            nn.LazyBatchNorm2d(),\n",
    "            nn.ReLU(),\n",
    "            nn.ConvTranspose2d(128, 64, kernel_size=4, stride=2, padding=1),            # 64x16x16\n",
    "            nn.LazyBatchNorm2d(),\n",
    "            nn.ReLU(),\n",
    "            nn.ConvTranspose2d( 64, 32, kernel_size=4, stride=2, padding=1),            # 32x32x32\n",
    "            nn.LazyBatchNorm2d(),\n",
    "            nn.ReLU(),\n",
    "            nn.ConvTranspose2d( 32,  3, kernel_size=4, stride=2, padding=1),            # 3x64x64\n",
    "            nn.Tanh(),\n",
    "        )\n",
    "    \n",
    "    def forward(self, z) -> torch.Tensor:\n",
    "        return self.layers(z)"
   ]
  },
  {
   "cell_type": "markdown",
   "metadata": {},
   "source": [
    "Part 5: Training Loop"
   ]
  },
  {
   "cell_type": "code",
   "execution_count": null,
   "metadata": {},
   "outputs": [],
   "source": [
    "def training_loop(dataset: Dataset, prefix: str = \"model\"):\n",
    "    # Create generators and discriminators\n",
    "    generator = Generator(NOISE_SIZE)\n",
    "    discriminator = Discriminator()\n",
    "\n",
    "    # Create optimizers for the generators and discriminators\n",
    "    g_optimizer = optim.Adam(generator.parameters(), lr=LEARNING_RATE)\n",
    "    d_optimizer = optim.Adam(discriminator.parameters(), lr=LEARNING_RATE)\n",
    "\n",
    "    dataloader = DataLoader(dataset, batch_size=BATCH_SIZE)\n",
    "    D_losses = []\n",
    "    G_losses = []\n",
    "    \n",
    "    iteration = 0 \n",
    "    for _ in range(NUM_EPOCHS):\n",
    "        total_loss = [0,0] # total discriminator and generator loss of current epoch\n",
    "        for data in dataloader:\n",
    "            n = data.shape[0] # size of current batch\n",
    "            # \n",
    "            # TRAIN DISCRIMINATOR\n",
    "            # \n",
    "            \n",
    "            d_optimizer.zero_grad()\n",
    "\n",
    "            # 1. Compute the discriminator loss on real images\n",
    "            D_real_pred: torch.Tensor = discriminator(data)\n",
    "            D_real_loss: torch.Tensor = (1 - D_real_pred).pow(2)\n",
    "\n",
    "            # 2. Sample noise\n",
    "            noise: torch.Tensor = torch.rand((n,NOISE_SIZE,1,1))\n",
    "\n",
    "            # 3. Generate fake images from the noise\n",
    "            fake_images: torch.Tensor = generator(noise)\n",
    "\n",
    "            # 4. Compute the discriminator loss on the fake images\n",
    "            D_fake_pred: torch.Tensor = discriminator(fake_images)\n",
    "            D_fake_loss: torch.Tensor = (-1 - D_fake_pred).pow(2)\n",
    "\n",
    "            # 5. Compute total loss\n",
    "            D_total_loss: torch.Tensor = (D_real_loss + D_fake_loss).sum().div(n)\n",
    "            if iteration % 2 == 0:\n",
    "                D_total_loss.backward()\n",
    "                d_optimizer.step()\n",
    "\n",
    "            # \n",
    "            # TRAIN GENERATOR\n",
    "            # \n",
    "\n",
    "            g_optimizer.zero_grad()\n",
    "\n",
    "            # 1. Sample noise\n",
    "            noise: torch.Tensor = torch.rand((n,NOISE_SIZE,1,1))\n",
    "\n",
    "            # 2. Generate fake images from the noise\n",
    "            fake_images: torch.Tensor = generator(noise)\n",
    "\n",
    "            # 3. Compute the generator loss\n",
    "            D_gen_pred: torch.Tensor = discriminator(fake_images)\n",
    "            G_loss: torch.Tensor = (1 - D_gen_pred).pow(2).sum().div(n)\n",
    "\n",
    "            G_loss.backward()\n",
    "            g_optimizer.step()\n",
    "\n",
    "            # Save model every 200 iterations\n",
    "            if iteration % 200 == 0:\n",
    "                torch.save(discriminator.state_dict(), f\"models/{prefix}-discriminator-{iteration}.pth\")\n",
    "                torch.save(generator.state_dict(), f\"models/{prefix}-generator-{iteration}.pth\")\n",
    "            iteration += 1\n",
    "\n",
    "            # Add to total loss for epoch\n",
    "            total_loss[0] += D_total_loss.item()\n",
    "            total_loss[1] += G_loss.item()\n",
    "        \n",
    "        # Record epoch loss for matplot\n",
    "        D_losses.append(total_loss[0])\n",
    "        G_losses.append(total_loss[1])\n",
    "    \n",
    "    return D_losses, G_losses"
   ]
  },
  {
   "cell_type": "code",
   "execution_count": null,
   "metadata": {},
   "outputs": [],
   "source": [
    "dataset = CustomDataset(\"grumpifyCat\")\n",
    "# simple transformation\n",
    "dataset.transform = get_transform(\"simple\")\n",
    "simple_losses = training_loop(dataset, \"s\")\n",
    "# deluxe transformation\n",
    "dataset.transform = get_transform(\"deluxe\")\n",
    "deluxe_losses = training_loop(dataset, \"d\")\n",
    "# make plot\n",
    "fig, ax = plt.subplots(1,2,figsize=(15,4))\n",
    "ax[0].set_title(\"Discriminator\")\n",
    "ax[0].set(ylim=[0,20])\n",
    "ax[1].set_title(\"Generator\")\n",
    "ax[1].set(ylim=[0,50])\n",
    "for i in [0,1]:\n",
    "    ax[i].plot(simple_losses[i], label=\"Simple\", c=\"lime\")\n",
    "    ax[i].plot(deluxe_losses[i], label=\"Deluxe\", c=\"red\")\n",
    "    ax[i].set(xlabel=\"epoch\", ylabel=\"loss\")\n",
    "    ax[i].legend()\n",
    "plt.show()"
   ]
  }
 ],
 "metadata": {
  "kernelspec": {
   "display_name": ".venv",
   "language": "python",
   "name": "python3"
  },
  "language_info": {
   "codemirror_mode": {
    "name": "ipython",
    "version": 3
   },
   "file_extension": ".py",
   "mimetype": "text/x-python",
   "name": "python",
   "nbconvert_exporter": "python",
   "pygments_lexer": "ipython3",
   "version": "3.12.3"
  }
 },
 "nbformat": 4,
 "nbformat_minor": 2
}
